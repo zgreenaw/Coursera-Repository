{
 "cells": [
  {
   "cell_type": "markdown",
   "metadata": {},
   "source": [
    "# Applied Data Science - Week 4 Notebook"
   ]
  },
  {
   "cell_type": "markdown",
   "metadata": {},
   "source": [
    "## Introduction and Business Problem"
   ]
  },
  {
   "cell_type": "markdown",
   "metadata": {},
   "source": [
    "The United States is the 4th largest country by area [1] with a rich secondary school system (inaccuratly but now refered to as a university). It has over 7,000 registered secondary schools [2] For many young adults the environment around the university (referred to as university ambience) is just as important as the university itself. The availiablity of cheap restaurants, foreign food, museums, bars and night life factors into many individuals choice of a university. "
   ]
  },
  {
   "cell_type": "markdown",
   "metadata": {},
   "source": [
    "### Problem To Be Solved"
   ]
  },
  {
   "cell_type": "markdown",
   "metadata": {},
   "source": [
    "With a large area and a rich option of universities it can be difficult for low income students to travel and assess the  ambience of the universities they are interested in attending. Foursquare data can be leveraged to cluster universities based off of the venues surrounding the universities. These university clusters could contain a list of other universities with simliar near-canmpus venues or ambience. A prospective student could use this grouping to:\n",
    "* Identify a closer university to assess the ambiance for a university farther away\n",
    "* Identify additional universities that share simliar ambiance to a previously visitied university\n",
    "* Identify universities to not consider based off of the simliar ambiance to a previously visitied university"
   ]
  },
  {
   "cell_type": "markdown",
   "metadata": {},
   "source": [
    "### Target Audience"
   ]
  },
  {
   "cell_type": "markdown",
   "metadata": {},
   "source": [
    "The target audience for this data is prospetive university students and their parents evaluating university offerings in the United States."
   ]
  },
  {
   "cell_type": "markdown",
   "metadata": {},
   "source": [
    "### Data"
   ]
  },
  {
   "cell_type": "markdown",
   "metadata": {},
   "source": [
    "The National Center for Education Statistics contains a list of all secondary schools in the United States along with their latitude, longtidue and various other government and social metrics. [3]\n",
    "\n",
    "Four Square can produce a list of venues near specific latitude and longtiude [4]. These venues are provided with categorical descriptors.\n",
    "\n",
    "When the list of univeristies, latitude and longitude from the NCES is coupled with the four square venue data it is possible to create a represenatiation of a university's ambience.\n",
    "\n",
    "A K-Means machine learning algorithm can take the above data sets to cluster universities together based off of their university ambience. Prospective students can then look at universities with similar ambience."
   ]
  },
  {
   "cell_type": "markdown",
   "metadata": {},
   "source": [
    "## References\n",
    "[1] Largest Countries in the World - https://www.worldometers.info/geography/largest-countries-in-the-world/\n",
    "[2] National Center for Education Statistics - https://nces.ed.gov/ipeds/use-the-data/survey-components\n",
    "[3] National Center for Education Statistics, Data - https://nces.ed.gov/programs/edge/docs/EDGE_GEOCODE_POSTSEC_1617.pdf&sa=U&ved=2ahUKEwiaiLyfwYbqAhUSbq0KHeUyDhAQFjAAegQIAhAB&usg=AOvVaw3Bf6JohA_PCo7m4fWhY918\n",
    "[4] Four Square Developer API - https://developer.foursquare.com/\n"
   ]
  }
 ],
 "metadata": {
  "kernelspec": {
   "display_name": "Python 3",
   "language": "python",
   "name": "python3"
  },
  "language_info": {
   "codemirror_mode": {
    "name": "ipython",
    "version": 3
   },
   "file_extension": ".py",
   "mimetype": "text/x-python",
   "name": "python",
   "nbconvert_exporter": "python",
   "pygments_lexer": "ipython3",
   "version": "3.7.6"
  }
 },
 "nbformat": 4,
 "nbformat_minor": 4
}
